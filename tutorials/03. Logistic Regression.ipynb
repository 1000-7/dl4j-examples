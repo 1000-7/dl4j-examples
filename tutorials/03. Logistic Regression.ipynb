{
 "cells": [
  {
   "cell_type": "markdown",
   "metadata": {},
   "source": [
    "### Note\n",
    "\n",
    "View the README.md [here](https://github.com/deeplearning4j/dl4j-examples/tree/overhaul_tutorials/tutorials/README.md) to learn about installing, setting up dependencies and importing notebooks in Zeppelin"
   ]
  },
  {
   "cell_type": "markdown",
   "metadata": {},
   "source": [
    "### Background\n",
    "---\n",
    "\n",
    "Deep learning is all about designing your network according to the data and its features that you already have - the dataset. So that the network can later train on it to get you the desired outcomes. There are different techniques to model your network and all of them build a relational hierarchy of some form between the inputs and outputs.\n",
    "\n",
    "In this tutorial we are going to configure the simplest neural network and that is logistic regression model network. \n",
    "\n",
    "Regression is simply finding out the relations between the independant variables (inputs) and the dependant variables (outputs). A logistic regression is one in which the dependant variable is categorical - meaning that it can take only a limited number of values. For example, it can either be a cat or a dog, or it can be digits from 0-9.\n",
    "\n",
    "**A simple logisitic regression calculates 'x*w + b = y'. Where 'x' is our input, 'w' is the weight, 'b' is the bias and y is the output. Ignore the biological terms here (cell body, axon etc). Just focus on how the input flows towards the output**\n",
    "\n",
    "|---|---|---|\n",
    "|**Logistic Regression** | ![How a logistic regression is calculcated](https://i.pinimg.com/736x/61/fe/81/61fe81589ab491d1d3ba612b3bdf5b51--convolutional-neural-network-neuron-model.jpg) | [Source](https://i.pinimg.com/736x/61/fe/81/61fe81589ab491d1d3ba612b3bdf5b51--convolutional-neural-network-neuron-model.jpg) |"
   ]
  },
  {
   "cell_type": "markdown",
   "metadata": {},
   "source": [
    "### What are we going to learn in this tutorial?\n",
    "As Explained above, we're going to configure the most simplest network with only one input layer and one output layer to demostrate the concept of logistic regression."
   ]
  },
  {
   "cell_type": "markdown",
   "metadata": {},
   "source": [
    "### Imports"
   ]
  },
  {
   "cell_type": "code",
   "execution_count": 4,
   "metadata": {
    "autoscroll": "auto"
   },
   "outputs": [],
   "source": [
    "import org.deeplearning4j.nn.api.OptimizationAlgorithm\n",
    "import org.deeplearning4j.nn.conf.graph.MergeVertex\n",
    "import org.deeplearning4j.nn.conf.layers.{DenseLayer, GravesLSTM, OutputLayer, RnnOutputLayer}\n",
    "import org.deeplearning4j.nn.conf.{ComputationGraphConfiguration, MultiLayerConfiguration, NeuralNetConfiguration}\n",
    "import org.deeplearning4j.nn.graph.ComputationGraph\n",
    "import org.deeplearning4j.nn.multilayer.MultiLayerNetwork\n",
    "import org.deeplearning4j.nn.weights.WeightInit\n",
    "import org.nd4j.linalg.activations.Activation\n",
    "import org.nd4j.linalg.learning.config.Nesterovs\n",
    "import org.nd4j.linalg.lossfunctions.LossFunctions"
   ]
  },
  {
   "cell_type": "markdown",
   "metadata": {},
   "source": [
    "### Configuring our logistic regression layers\n",
    "We are going to first build our layers and then feed these layers into our network configuration."
   ]
  },
  {
   "cell_type": "code",
   "execution_count": 6,
   "metadata": {
    "autoscroll": "auto"
   },
   "outputs": [],
   "source": [
    "//Building the output layer\n",
    "val outputLayer : OutputLayer = new OutputLayer.Builder()\n",
    "    .nIn(784) //The number of inputs feed from the input layer\n",
    "    .nOut(10) //The number of output values the output layer is supposed to take\n",
    "    .weightInit(WeightInit.XAVIER) //The algorithm to use for weights initialization\n",
    "    .activation(Activation.SOFTMAX) //Softmax activate converts the output layer into a probability distribution\n",
    "    .build() //Building our output layer"
   ]
  },
  {
   "cell_type": "code",
   "execution_count": 7,
   "metadata": {
    "autoscroll": "auto"
   },
   "outputs": [],
   "source": [
    "//Since this is a simple network with a stack of layers we're going to configure a MultiLayerNetwork\n",
    "val logisticRegressionConf : MultiLayerConfiguration = new NeuralNetConfiguration.Builder()\n",
    "    .seed(123).learningRate(0.1).iterations(1).optimizationAlgo(OptimizationAlgorithm.STOCHASTIC_GRADIENT_DESCENT).updater(new Nesterovs(0.9)) //High Level Configuration\n",
    "    .list() //For configuring MultiLayerNetwork we call the list method\n",
    "    .layer(0, outputLayer) //    <----- output layer fed here\n",
    "    .pretrain(false).backprop(true) //Pretraining and Backprop Configuration\n",
    "    .build() //Building Configuration"
   ]
  },
  {
   "cell_type": "markdown",
   "metadata": {},
   "source": [
    "**This is how our configuration here looks like:**\n",
    "\n",
    "|---|---|---|\n",
    "|**Logistic Regression** | ![How a logistic regression visually looks like in neural networks](https://isaacchanghau.github.io/images/deeplearning/activationfunction/softmax.png) | [Source](https://isaacchanghau.github.io/images/deeplearning/activationfunction/softmax.png) |\n",
    "---\n",
    "The layer with x1, x2, x3, ..., xn is out input layer. While the one with z1, z2, z3, ..., zk is our output layer. See how the weights and biases are connected and how softmax is applied to give the probability distribution.\n"
   ]
  },
  {
   "cell_type": "markdown",
   "metadata": {},
   "source": [
    "### Why didn't we build our input layer\n",
    "---\n",
    "You must be wondering why didn't we write any kind of code for building our input layer.That's because the input layer is only a set of inputs values fed into the network. It doesn't perform any kind of calculation. It's just an input sequence (raw or pre-processed) coming into the network to be trained on or to be evaluated upon. Later on, we are going to work with data iterators, which are supposed to feed our input to our network in a specific pattern, which can be thought of as an input layer of the network."
   ]
  },
  {
   "cell_type": "markdown",
   "metadata": {},
   "source": [
    " \n",
    "\n",
    "### What's next?\n",
    "- See tutorial [here](http://someurl) to learn about configuring a more complex network, namely, a 'feedforward neural network'. Here we also introduce the concept of hidden layers."
   ]
  },
  {
   "cell_type": "markdown",
   "metadata": {},
   "source": []
  }
 ],
 "metadata": {
  "kernelspec": {
   "display_name": "Spark 2.0.0 - Scala 2.11",
   "language": "scala",
   "name": "spark2-scala"
  },
  "language_info": {
   "codemirror_mode": "text/x-scala",
   "file_extension": ".scala",
   "mimetype": "text/x-scala",
   "name": "scala",
   "pygments_lexer": "scala",
   "version": "2.11.8"
  }
 },
 "nbformat": 4,
 "nbformat_minor": 2
}
